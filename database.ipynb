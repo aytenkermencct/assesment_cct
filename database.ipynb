{
 "cells": [
  {
   "attachments": {},
   "cell_type": "markdown",
   "metadata": {},
   "source": [
    "### MySql Database file\n",
    "- It covers all database functions\n"
   ]
  },
  {
   "cell_type": "code",
   "execution_count": 1,
   "metadata": {},
   "outputs": [],
   "source": [
    "import pandas as pd\n",
    "import mysql.connector \n",
    "from mysql.connector import Error\n",
    "from sqlalchemy import create_engine"
   ]
  },
  {
   "cell_type": "code",
   "execution_count": 2,
   "metadata": {},
   "outputs": [],
   "source": [
    "## Create connection\n",
    "def get_connection():\n",
    "    return mysql.connector.connect(host='127.0.0.1',\n",
    "                                   user='root',\n",
    "                                   password='',\n",
    "                                   charset=\"utf8mb4\")"
   ]
  },
  {
   "cell_type": "code",
   "execution_count": 7,
   "metadata": {},
   "outputs": [],
   "source": [
    "## create a Assesment database\n",
    "def create_db():\n",
    "    try:\n",
    "        connection = get_connection()\n",
    "        if connection.is_connected():\n",
    "            cursor = connection.cursor()\n",
    "            cursor.execute(\"CREATE DATABASE IF NOT EXISTS assesment;\")\n",
    "            print(\"Database is created...\")\n",
    "            connection.commit()\n",
    "    except Exception as e:\n",
    "        print(\"Error while connecting to MySQL\", e)\n",
    "\n"
   ]
  },
  {
   "cell_type": "code",
   "execution_count": 12,
   "metadata": {},
   "outputs": [],
   "source": [
    "## create tables \n",
    "def create_table():\n",
    "    try:\n",
    "        connection = get_connection()\n",
    "        if connection.is_connected():\n",
    "            cursor = connection.cursor()\n",
    "            cursor.execute(\"USE assesment;\")\n",
    "            #test table with ppr dataset\n",
    "            # columns: 'Date_of_Sale', 'Address', 'County', 'Eircode', 'Price','Not_Full_Market_Price', 'VAT_Exclusive', 'Description_of_Property','Property_Size_Description'\n",
    "            cursor.execute(\n",
    "                \"\"\" CREATE TABLE IF NOT EXISTS\n",
    "                    ppr_test(Date_of_Sale VARCHAR(10),Address VARCHAR(255),County VARCHAR(255),Eircode VARCHAR(10) ,Price VARCHAR(50),Not_Full_Market_Price VARCHAR(5),\n",
    "                    VAT_Exclusive VARCHAR(10),\n",
    "                    Description_of_Property VARCHAR(255),\n",
    "                    Property_Size_Description VARCHAR(255));  \"\"\") \n",
    "            # comment table\n",
    "            connection.commit()\n",
    "            print(\"Table is created...\")\n",
    "    except Exception as e:\n",
    "        print(\"Error while connecting to MySQL\", e)"
   ]
  },
  {
   "cell_type": "code",
   "execution_count": 4,
   "metadata": {},
   "outputs": [],
   "source": [
    "## execute any queries on database\n",
    "def execute_query(query):\n",
    "    try:\n",
    "        connection = get_connection()\n",
    "        if connection.is_connected():\n",
    "            cursor = connection.cursor()\n",
    "            cursor.execute(\"USE assesment;\")\n",
    "            cursor.execute(query)\n",
    "            connection.commit()\n",
    "            print(\"Query finished\")\n",
    "    except Exception as e:\n",
    "            print(\"Query is failed:\" + query)"
   ]
  },
  {
   "cell_type": "code",
   "execution_count": 5,
   "metadata": {},
   "outputs": [],
   "source": [
    "## get query result as a dataframe\n",
    "def get_data(query):\n",
    "    try:\n",
    "        connection = get_connection()\n",
    "        if connection.is_connected():\n",
    "            cursor = connection.cursor()\n",
    "            cursor.execute(\"USE assesment;\")\n",
    "            cursor.execute(query)\n",
    "            cols = list(map(lambda x: x[0], cursor.description))\n",
    "            #result_list=cursor.fetchall()\n",
    "    except Exception as e:\n",
    "            print(\"Query is failed\")\n",
    "    df=pd.DataFrame(cursor.fetchall(),columns=cols)\n",
    "    return df"
   ]
  },
  {
   "cell_type": "code",
   "execution_count": 6,
   "metadata": {},
   "outputs": [],
   "source": [
    "## insert data to table from dataframe\n",
    "def insertData(df,tablename):\n",
    "    try:\n",
    "        conn = create_engine(\"mysql://root@localhost/assesment\")\n",
    "        df.to_sql(tablename,con=conn,if_exists='append',index=False)\n",
    "        print(\"Inserting complete...\")\n",
    "    except Exception as e:\n",
    "        print(\"Insertin failed :\",e)\n",
    "    "
   ]
  },
  {
   "cell_type": "code",
   "execution_count": 8,
   "metadata": {},
   "outputs": [
    {
     "name": "stdout",
     "output_type": "stream",
     "text": [
      "Database is created...\n"
     ]
    }
   ],
   "source": [
    "create_db()"
   ]
  },
  {
   "cell_type": "code",
   "execution_count": 13,
   "metadata": {},
   "outputs": [
    {
     "name": "stdout",
     "output_type": "stream",
     "text": [
      "Table is created...\n"
     ]
    }
   ],
   "source": [
    "create_table()"
   ]
  },
  {
   "cell_type": "code",
   "execution_count": 15,
   "metadata": {},
   "outputs": [
    {
     "data": {
      "text/html": [
       "<div>\n",
       "<style scoped>\n",
       "    .dataframe tbody tr th:only-of-type {\n",
       "        vertical-align: middle;\n",
       "    }\n",
       "\n",
       "    .dataframe tbody tr th {\n",
       "        vertical-align: top;\n",
       "    }\n",
       "\n",
       "    .dataframe thead th {\n",
       "        text-align: right;\n",
       "    }\n",
       "</style>\n",
       "<table border=\"1\" class=\"dataframe\">\n",
       "  <thead>\n",
       "    <tr style=\"text-align: right;\">\n",
       "      <th></th>\n",
       "      <th>Date_of_Sale</th>\n",
       "      <th>Address</th>\n",
       "      <th>County</th>\n",
       "      <th>Eircode</th>\n",
       "      <th>Price</th>\n",
       "      <th>Not_Full_Market_Price</th>\n",
       "      <th>VAT_Exclusive</th>\n",
       "      <th>Description_of_Property</th>\n",
       "      <th>Property_Size_Description</th>\n",
       "    </tr>\n",
       "  </thead>\n",
       "  <tbody>\n",
       "    <tr>\n",
       "      <th>0</th>\n",
       "      <td>01/01/2010</td>\n",
       "      <td>5 Braemor Drive, Churchtown, Co.Dublin</td>\n",
       "      <td>Dublin</td>\n",
       "      <td>NaN</td>\n",
       "      <td>343,000.00</td>\n",
       "      <td>No</td>\n",
       "      <td>No</td>\n",
       "      <td>Second-Hand Dwelling house /Apartment</td>\n",
       "      <td>NaN</td>\n",
       "    </tr>\n",
       "    <tr>\n",
       "      <th>1</th>\n",
       "      <td>03/01/2010</td>\n",
       "      <td>134 Ashewood Walk, Summerhill Lane, Portlaoise</td>\n",
       "      <td>Laois</td>\n",
       "      <td>NaN</td>\n",
       "      <td>185,000.00</td>\n",
       "      <td>No</td>\n",
       "      <td>Yes</td>\n",
       "      <td>New Dwelling house /Apartment</td>\n",
       "      <td>greater than or equal to 38 sq metres and less...</td>\n",
       "    </tr>\n",
       "    <tr>\n",
       "      <th>2</th>\n",
       "      <td>04/01/2010</td>\n",
       "      <td>1 Meadow Avenue, Dundrum, Dublin 14</td>\n",
       "      <td>Dublin</td>\n",
       "      <td>NaN</td>\n",
       "      <td>438,500.00</td>\n",
       "      <td>No</td>\n",
       "      <td>No</td>\n",
       "      <td>Second-Hand Dwelling house /Apartment</td>\n",
       "      <td>NaN</td>\n",
       "    </tr>\n",
       "    <tr>\n",
       "      <th>3</th>\n",
       "      <td>04/01/2010</td>\n",
       "      <td>1 The Haven, Mornington</td>\n",
       "      <td>Meath</td>\n",
       "      <td>NaN</td>\n",
       "      <td>400,000.00</td>\n",
       "      <td>No</td>\n",
       "      <td>No</td>\n",
       "      <td>Second-Hand Dwelling house /Apartment</td>\n",
       "      <td>NaN</td>\n",
       "    </tr>\n",
       "    <tr>\n",
       "      <th>4</th>\n",
       "      <td>04/01/2010</td>\n",
       "      <td>11 Melville Heights, Kilkenny</td>\n",
       "      <td>Kilkenny</td>\n",
       "      <td>NaN</td>\n",
       "      <td>160,000.00</td>\n",
       "      <td>No</td>\n",
       "      <td>No</td>\n",
       "      <td>Second-Hand Dwelling house /Apartment</td>\n",
       "      <td>NaN</td>\n",
       "    </tr>\n",
       "  </tbody>\n",
       "</table>\n",
       "</div>"
      ],
      "text/plain": [
       "  Date_of_Sale                                         Address    County  \\\n",
       "0   01/01/2010          5 Braemor Drive, Churchtown, Co.Dublin    Dublin   \n",
       "1   03/01/2010  134 Ashewood Walk, Summerhill Lane, Portlaoise     Laois   \n",
       "2   04/01/2010             1 Meadow Avenue, Dundrum, Dublin 14    Dublin   \n",
       "3   04/01/2010                         1 The Haven, Mornington     Meath   \n",
       "4   04/01/2010                   11 Melville Heights, Kilkenny  Kilkenny   \n",
       "\n",
       "  Eircode       Price Not_Full_Market_Price VAT_Exclusive  \\\n",
       "0     NaN  343,000.00                    No            No   \n",
       "1     NaN  185,000.00                    No           Yes   \n",
       "2     NaN  438,500.00                    No            No   \n",
       "3     NaN  400,000.00                    No            No   \n",
       "4     NaN  160,000.00                    No            No   \n",
       "\n",
       "                 Description_of_Property  \\\n",
       "0  Second-Hand Dwelling house /Apartment   \n",
       "1          New Dwelling house /Apartment   \n",
       "2  Second-Hand Dwelling house /Apartment   \n",
       "3  Second-Hand Dwelling house /Apartment   \n",
       "4  Second-Hand Dwelling house /Apartment   \n",
       "\n",
       "                           Property_Size_Description  \n",
       "0                                                NaN  \n",
       "1  greater than or equal to 38 sq metres and less...  \n",
       "2                                                NaN  \n",
       "3                                                NaN  \n",
       "4                                                NaN  "
      ]
     },
     "execution_count": 15,
     "metadata": {},
     "output_type": "execute_result"
    }
   ],
   "source": [
    "## test\n",
    "## read csv file and insert the test dable\n",
    "ppr=\"PPR_All.csv\"\n",
    "ppr_df=pd.read_csv(ppr, low_memory=False)\n",
    "#rename the columns\n",
    "cols=['Date_of_Sale', 'Address', 'County', 'Eircode', 'Price',\n",
    "       'Not_Full_Market_Price', 'VAT_Exclusive', 'Description_of_Property',\n",
    "       'Property_Size_Description']\n",
    "ppr_df.columns=cols\n",
    "ppr_df.head()"
   ]
  },
  {
   "cell_type": "code",
   "execution_count": 16,
   "metadata": {},
   "outputs": [
    {
     "name": "stdout",
     "output_type": "stream",
     "text": [
      "Inserting complete...\n"
     ]
    }
   ],
   "source": [
    "insertData(ppr_df,\"ppr_test\")"
   ]
  },
  {
   "cell_type": "code",
   "execution_count": 17,
   "metadata": {},
   "outputs": [
    {
     "data": {
      "text/html": [
       "<div>\n",
       "<style scoped>\n",
       "    .dataframe tbody tr th:only-of-type {\n",
       "        vertical-align: middle;\n",
       "    }\n",
       "\n",
       "    .dataframe tbody tr th {\n",
       "        vertical-align: top;\n",
       "    }\n",
       "\n",
       "    .dataframe thead th {\n",
       "        text-align: right;\n",
       "    }\n",
       "</style>\n",
       "<table border=\"1\" class=\"dataframe\">\n",
       "  <thead>\n",
       "    <tr style=\"text-align: right;\">\n",
       "      <th></th>\n",
       "      <th>Date_of_Sale</th>\n",
       "      <th>Address</th>\n",
       "      <th>County</th>\n",
       "      <th>Eircode</th>\n",
       "      <th>Price</th>\n",
       "      <th>Not_Full_Market_Price</th>\n",
       "      <th>VAT_Exclusive</th>\n",
       "      <th>Description_of_Property</th>\n",
       "      <th>Property_Size_Description</th>\n",
       "    </tr>\n",
       "  </thead>\n",
       "  <tbody>\n",
       "    <tr>\n",
       "      <th>0</th>\n",
       "      <td>01/01/2010</td>\n",
       "      <td>5 Braemor Drive, Churchtown, Co.Dublin</td>\n",
       "      <td>Dublin</td>\n",
       "      <td>None</td>\n",
       "      <td>343,000.00</td>\n",
       "      <td>No</td>\n",
       "      <td>No</td>\n",
       "      <td>Second-Hand Dwelling house /Apartment</td>\n",
       "      <td>None</td>\n",
       "    </tr>\n",
       "    <tr>\n",
       "      <th>1</th>\n",
       "      <td>03/01/2010</td>\n",
       "      <td>134 Ashewood Walk, Summerhill Lane, Portlaoise</td>\n",
       "      <td>Laois</td>\n",
       "      <td>None</td>\n",
       "      <td>185,000.00</td>\n",
       "      <td>No</td>\n",
       "      <td>Yes</td>\n",
       "      <td>New Dwelling house /Apartment</td>\n",
       "      <td>greater than or equal to 38 sq metres and less...</td>\n",
       "    </tr>\n",
       "    <tr>\n",
       "      <th>2</th>\n",
       "      <td>04/01/2010</td>\n",
       "      <td>1 Meadow Avenue, Dundrum, Dublin 14</td>\n",
       "      <td>Dublin</td>\n",
       "      <td>None</td>\n",
       "      <td>438,500.00</td>\n",
       "      <td>No</td>\n",
       "      <td>No</td>\n",
       "      <td>Second-Hand Dwelling house /Apartment</td>\n",
       "      <td>None</td>\n",
       "    </tr>\n",
       "    <tr>\n",
       "      <th>3</th>\n",
       "      <td>04/01/2010</td>\n",
       "      <td>1 The Haven, Mornington</td>\n",
       "      <td>Meath</td>\n",
       "      <td>None</td>\n",
       "      <td>400,000.00</td>\n",
       "      <td>No</td>\n",
       "      <td>No</td>\n",
       "      <td>Second-Hand Dwelling house /Apartment</td>\n",
       "      <td>None</td>\n",
       "    </tr>\n",
       "    <tr>\n",
       "      <th>4</th>\n",
       "      <td>04/01/2010</td>\n",
       "      <td>11 Melville Heights, Kilkenny</td>\n",
       "      <td>Kilkenny</td>\n",
       "      <td>None</td>\n",
       "      <td>160,000.00</td>\n",
       "      <td>No</td>\n",
       "      <td>No</td>\n",
       "      <td>Second-Hand Dwelling house /Apartment</td>\n",
       "      <td>None</td>\n",
       "    </tr>\n",
       "  </tbody>\n",
       "</table>\n",
       "</div>"
      ],
      "text/plain": [
       "  Date_of_Sale                                         Address    County  \\\n",
       "0   01/01/2010          5 Braemor Drive, Churchtown, Co.Dublin    Dublin   \n",
       "1   03/01/2010  134 Ashewood Walk, Summerhill Lane, Portlaoise     Laois   \n",
       "2   04/01/2010             1 Meadow Avenue, Dundrum, Dublin 14    Dublin   \n",
       "3   04/01/2010                         1 The Haven, Mornington     Meath   \n",
       "4   04/01/2010                   11 Melville Heights, Kilkenny  Kilkenny   \n",
       "\n",
       "  Eircode       Price Not_Full_Market_Price VAT_Exclusive  \\\n",
       "0    None  343,000.00                    No            No   \n",
       "1    None  185,000.00                    No           Yes   \n",
       "2    None  438,500.00                    No            No   \n",
       "3    None  400,000.00                    No            No   \n",
       "4    None  160,000.00                    No            No   \n",
       "\n",
       "                 Description_of_Property  \\\n",
       "0  Second-Hand Dwelling house /Apartment   \n",
       "1          New Dwelling house /Apartment   \n",
       "2  Second-Hand Dwelling house /Apartment   \n",
       "3  Second-Hand Dwelling house /Apartment   \n",
       "4  Second-Hand Dwelling house /Apartment   \n",
       "\n",
       "                           Property_Size_Description  \n",
       "0                                               None  \n",
       "1  greater than or equal to 38 sq metres and less...  \n",
       "2                                               None  \n",
       "3                                               None  \n",
       "4                                               None  "
      ]
     },
     "execution_count": 17,
     "metadata": {},
     "output_type": "execute_result"
    }
   ],
   "source": [
    "# query the table\n",
    "query=\"\"\"select * from ppr_test; \"\"\"\n",
    "result=get_data(query)\n",
    "result.head()"
   ]
  },
  {
   "cell_type": "code",
   "execution_count": null,
   "metadata": {},
   "outputs": [],
   "source": []
  }
 ],
 "metadata": {
  "kernelspec": {
   "display_name": "base",
   "language": "python",
   "name": "python3"
  },
  "language_info": {
   "codemirror_mode": {
    "name": "ipython",
    "version": 3
   },
   "file_extension": ".py",
   "mimetype": "text/x-python",
   "name": "python",
   "nbconvert_exporter": "python",
   "pygments_lexer": "ipython3",
   "version": "3.9.13"
  },
  "orig_nbformat": 4
 },
 "nbformat": 4,
 "nbformat_minor": 2
}
